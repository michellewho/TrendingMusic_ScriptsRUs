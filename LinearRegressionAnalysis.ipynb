{
 "cells": [
  {
   "cell_type": "code",
   "execution_count": null,
   "metadata": {
    "collapsed": true
   },
   "outputs": [],
   "source": [
    "# Data comes in as a array of the positions of a song at different weeks\n",
    "peak = 0\n",
    "def peakPos(data) :\n",
    "    for i in data:\n",
    "        if (i > peak):\n",
    "            peak = i\n",
    "\n",
    "    ret.append(peak)\n",
    "# linear regression on all number after peak including peak\n",
    "# linear regression on all numbers before peak including peak\n",
    "ret.append(declineSlope)\n",
    "ret.append(inclineSlope)\n",
    "\n",
    "#start finding correlations in these and the spotify data\n"
   ]
  }
 ],
 "metadata": {
  "kernelspec": {
   "display_name": "Python 3",
   "language": "python",
   "name": "python3"
  },
  "language_info": {
   "codemirror_mode": {
    "name": "ipython",
    "version": 3
   },
   "file_extension": ".py",
   "mimetype": "text/x-python",
   "name": "python",
   "nbconvert_exporter": "python",
   "pygments_lexer": "ipython3",
   "version": "3.6.2"
  }
 },
 "nbformat": 4,
 "nbformat_minor": 2
}
